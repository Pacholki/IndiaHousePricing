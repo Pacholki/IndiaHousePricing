{
 "cells": [
  {
   "cell_type": "code",
   "execution_count": 4,
   "metadata": {
    "ExecuteTime": {
     "end_time": "2024-04-07T15:26:32.617330Z",
     "start_time": "2024-04-07T15:26:32.427737Z"
    }
   },
   "outputs": [],
   "source": [
    "import pandas as pd\n",
    "import numpy as np\n",
    "import sklearn\n",
    "import seaborn as sns\n",
    "import matplotlib.pyplot as plt\n",
    "np.random.seed(23)"
   ]
  },
  {
   "cell_type": "code",
   "execution_count": 5,
   "metadata": {
    "ExecuteTime": {
     "end_time": "2024-04-07T15:26:34.163132Z",
     "start_time": "2024-04-07T15:26:33.244193Z"
    }
   },
   "outputs": [],
   "source": [
    "from sklearn.dummy import DummyClassifier\n",
    "from sklearn.metrics import accuracy_score\n",
    "from sklearn.linear_model import LogisticRegression\n",
    "from sklearn.tree import DecisionTreeClassifier\n",
    "from sklearn.naive_bayes import GaussianNB\n",
    "from sklearn.svm import SVC\n",
    "from sklearn.ensemble import RandomForestClassifier\n",
    "from sklearn.ensemble import AdaBoostClassifier\n",
    "from sklearn.ensemble import GradientBoostingClassifier\n",
    "from xgboost import XGBClassifier\n",
    "from sklearn.neighbors import KNeighborsClassifier"
   ]
  },
  {
   "cell_type": "code",
   "execution_count": 6,
   "metadata": {
    "ExecuteTime": {
     "end_time": "2024-04-07T15:26:34.912303Z",
     "start_time": "2024-04-07T15:26:34.903498Z"
    }
   },
   "outputs": [],
   "source": [
    "import warnings\n",
    "warnings.filterwarnings('ignore')\n",
    "warnings.filterwarnings('ignore', category=UserWarning, module='sklearn')"
   ]
  },
  {
   "cell_type": "code",
   "execution_count": 7,
   "metadata": {
    "ExecuteTime": {
     "end_time": "2024-04-07T15:26:35.936313Z",
     "start_time": "2024-04-07T15:26:35.825612Z"
    }
   },
   "outputs": [],
   "source": [
    "houses_df = pd.read_csv(\"HousePriceIndia.csv\")"
   ]
  },
  {
   "cell_type": "code",
   "execution_count": 8,
   "metadata": {
    "ExecuteTime": {
     "end_time": "2024-04-07T15:26:37.022609Z",
     "start_time": "2024-04-07T15:26:36.993681Z"
    }
   },
   "outputs": [
    {
     "name": "stdout",
     "output_type": "stream",
     "text": [
      "iqr: 325000.0\n",
      "lower bound: -167500.0\n",
      "upper bound: 1132500.0\n"
     ]
    }
   ],
   "source": [
    "prices = houses_df[\"Price\"]\n",
    "\n",
    "q1 = np.percentile(prices, 25)\n",
    "q3 = np.percentile(prices, 75)\n",
    "\n",
    "iqr = q3 - q1\n",
    "print(f\"iqr: {iqr}\")\n",
    "\n",
    "\n",
    "lower_bound = q1 - 1.5 * iqr\n",
    "upper_bound = q3 + 1.5 * iqr\n",
    "print(f\"lower bound: {lower_bound}\")\n",
    "print(f\"upper bound: {upper_bound}\")"
   ]
  },
  {
   "cell_type": "code",
   "execution_count": 9,
   "metadata": {
    "ExecuteTime": {
     "end_time": "2024-04-07T15:26:38.034884Z",
     "start_time": "2024-04-07T15:26:38.014399Z"
    }
   },
   "outputs": [
    {
     "name": "stdout",
     "output_type": "stream",
     "text": [
      "threshold 1: 377500.0\n",
      "threshold 2: 755000.0\n"
     ]
    }
   ],
   "source": [
    "lower_bound = max(0, lower_bound)\n",
    "threshold1 = lower_bound + (upper_bound - lower_bound) / 3\n",
    "threshold2 = lower_bound + (upper_bound - lower_bound) / 3 * 2\n",
    "\n",
    "print(f\"threshold 1: {threshold1}\")\n",
    "print(f\"threshold 2: {threshold2}\")"
   ]
  },
  {
   "cell_type": "code",
   "execution_count": 10,
   "metadata": {
    "ExecuteTime": {
     "end_time": "2024-04-07T15:26:39.230612Z",
     "start_time": "2024-04-07T15:26:39.167130Z"
    }
   },
   "outputs": [
    {
     "data": {
      "text/plain": "           id   Date  number of bedrooms  number of bathrooms  living area  \\\n0  6762810145  42491                   5                 2.50         3650   \n1  6762810635  42491                   4                 2.50         2920   \n2  6762810998  42491                   5                 2.75         2910   \n3  6762812605  42491                   4                 2.50         3310   \n4  6762812919  42491                   3                 2.00         2710   \n5  6762813105  42491                   3                 2.50         2600   \n6  6762813157  42491                   5                 3.25         3660   \n7  6762813599  42491                   3                 1.75         2240   \n8  6762813600  42491                   3                 2.50         2390   \n9  6762814461  42491                   4                 2.25         2200   \n\n   lot area  number of floors  waterfront present  number of views  \\\n0      9050               2.0                   0                4   \n1      4000               1.5                   0                0   \n2      9480               1.5                   0                0   \n3     42998               2.0                   0                0   \n4      4500               1.5                   0                0   \n5      4750               1.0                   0                0   \n6     11995               2.0                   0                2   \n7     10578               2.0                   0                0   \n8      6550               1.0                   0                2   \n9     11250               1.5                   0                0   \n\n   condition of the house  ...  Renovation Year  Postal Code  Lattitude  \\\n0                       5  ...                0       122003    52.8645   \n1                       5  ...                0       122004    52.8878   \n2                       3  ...                0       122004    52.8852   \n3                       3  ...                0       122005    52.9532   \n4                       4  ...                0       122006    52.9047   \n5                       4  ...                0       122007    52.9133   \n6                       3  ...                0       122008    52.7637   \n7                       5  ...                0       122006    52.9254   \n8                       4  ...                0       122009    52.8014   \n9                       5  ...                0       122010    52.9145   \n\n   Longitude  living_area_renov  lot_area_renov  Number of schools nearby  \\\n0   -114.557               2880            5400                         2   \n1   -114.470               2470            4000                         2   \n2   -114.468               2940            6600                         1   \n3   -114.321               3350           42847                         3   \n4   -114.485               2060            4500                         1   \n5   -114.590               2380            4750                         1   \n6   -114.050               3320           11241                         3   \n7   -114.482               1570           10578                         3   \n8   -114.598               2010            6550                         1   \n9   -114.391               2320           10814                         2   \n\n   Distance from the airport    Price  price_category  \n0                         58  2380000               2  \n1                         51  1400000               2  \n2                         53  1200000               2  \n3                         76   838000               2  \n4                         51   805000               2  \n5                         67   790000               2  \n6                         72   785000               2  \n7                         71   750000               1  \n8                         73   750000               1  \n9                         53   698000               1  \n\n[10 rows x 24 columns]",
      "text/html": "<div>\n<style scoped>\n    .dataframe tbody tr th:only-of-type {\n        vertical-align: middle;\n    }\n\n    .dataframe tbody tr th {\n        vertical-align: top;\n    }\n\n    .dataframe thead th {\n        text-align: right;\n    }\n</style>\n<table border=\"1\" class=\"dataframe\">\n  <thead>\n    <tr style=\"text-align: right;\">\n      <th></th>\n      <th>id</th>\n      <th>Date</th>\n      <th>number of bedrooms</th>\n      <th>number of bathrooms</th>\n      <th>living area</th>\n      <th>lot area</th>\n      <th>number of floors</th>\n      <th>waterfront present</th>\n      <th>number of views</th>\n      <th>condition of the house</th>\n      <th>...</th>\n      <th>Renovation Year</th>\n      <th>Postal Code</th>\n      <th>Lattitude</th>\n      <th>Longitude</th>\n      <th>living_area_renov</th>\n      <th>lot_area_renov</th>\n      <th>Number of schools nearby</th>\n      <th>Distance from the airport</th>\n      <th>Price</th>\n      <th>price_category</th>\n    </tr>\n  </thead>\n  <tbody>\n    <tr>\n      <th>0</th>\n      <td>6762810145</td>\n      <td>42491</td>\n      <td>5</td>\n      <td>2.50</td>\n      <td>3650</td>\n      <td>9050</td>\n      <td>2.0</td>\n      <td>0</td>\n      <td>4</td>\n      <td>5</td>\n      <td>...</td>\n      <td>0</td>\n      <td>122003</td>\n      <td>52.8645</td>\n      <td>-114.557</td>\n      <td>2880</td>\n      <td>5400</td>\n      <td>2</td>\n      <td>58</td>\n      <td>2380000</td>\n      <td>2</td>\n    </tr>\n    <tr>\n      <th>1</th>\n      <td>6762810635</td>\n      <td>42491</td>\n      <td>4</td>\n      <td>2.50</td>\n      <td>2920</td>\n      <td>4000</td>\n      <td>1.5</td>\n      <td>0</td>\n      <td>0</td>\n      <td>5</td>\n      <td>...</td>\n      <td>0</td>\n      <td>122004</td>\n      <td>52.8878</td>\n      <td>-114.470</td>\n      <td>2470</td>\n      <td>4000</td>\n      <td>2</td>\n      <td>51</td>\n      <td>1400000</td>\n      <td>2</td>\n    </tr>\n    <tr>\n      <th>2</th>\n      <td>6762810998</td>\n      <td>42491</td>\n      <td>5</td>\n      <td>2.75</td>\n      <td>2910</td>\n      <td>9480</td>\n      <td>1.5</td>\n      <td>0</td>\n      <td>0</td>\n      <td>3</td>\n      <td>...</td>\n      <td>0</td>\n      <td>122004</td>\n      <td>52.8852</td>\n      <td>-114.468</td>\n      <td>2940</td>\n      <td>6600</td>\n      <td>1</td>\n      <td>53</td>\n      <td>1200000</td>\n      <td>2</td>\n    </tr>\n    <tr>\n      <th>3</th>\n      <td>6762812605</td>\n      <td>42491</td>\n      <td>4</td>\n      <td>2.50</td>\n      <td>3310</td>\n      <td>42998</td>\n      <td>2.0</td>\n      <td>0</td>\n      <td>0</td>\n      <td>3</td>\n      <td>...</td>\n      <td>0</td>\n      <td>122005</td>\n      <td>52.9532</td>\n      <td>-114.321</td>\n      <td>3350</td>\n      <td>42847</td>\n      <td>3</td>\n      <td>76</td>\n      <td>838000</td>\n      <td>2</td>\n    </tr>\n    <tr>\n      <th>4</th>\n      <td>6762812919</td>\n      <td>42491</td>\n      <td>3</td>\n      <td>2.00</td>\n      <td>2710</td>\n      <td>4500</td>\n      <td>1.5</td>\n      <td>0</td>\n      <td>0</td>\n      <td>4</td>\n      <td>...</td>\n      <td>0</td>\n      <td>122006</td>\n      <td>52.9047</td>\n      <td>-114.485</td>\n      <td>2060</td>\n      <td>4500</td>\n      <td>1</td>\n      <td>51</td>\n      <td>805000</td>\n      <td>2</td>\n    </tr>\n    <tr>\n      <th>5</th>\n      <td>6762813105</td>\n      <td>42491</td>\n      <td>3</td>\n      <td>2.50</td>\n      <td>2600</td>\n      <td>4750</td>\n      <td>1.0</td>\n      <td>0</td>\n      <td>0</td>\n      <td>4</td>\n      <td>...</td>\n      <td>0</td>\n      <td>122007</td>\n      <td>52.9133</td>\n      <td>-114.590</td>\n      <td>2380</td>\n      <td>4750</td>\n      <td>1</td>\n      <td>67</td>\n      <td>790000</td>\n      <td>2</td>\n    </tr>\n    <tr>\n      <th>6</th>\n      <td>6762813157</td>\n      <td>42491</td>\n      <td>5</td>\n      <td>3.25</td>\n      <td>3660</td>\n      <td>11995</td>\n      <td>2.0</td>\n      <td>0</td>\n      <td>2</td>\n      <td>3</td>\n      <td>...</td>\n      <td>0</td>\n      <td>122008</td>\n      <td>52.7637</td>\n      <td>-114.050</td>\n      <td>3320</td>\n      <td>11241</td>\n      <td>3</td>\n      <td>72</td>\n      <td>785000</td>\n      <td>2</td>\n    </tr>\n    <tr>\n      <th>7</th>\n      <td>6762813599</td>\n      <td>42491</td>\n      <td>3</td>\n      <td>1.75</td>\n      <td>2240</td>\n      <td>10578</td>\n      <td>2.0</td>\n      <td>0</td>\n      <td>0</td>\n      <td>5</td>\n      <td>...</td>\n      <td>0</td>\n      <td>122006</td>\n      <td>52.9254</td>\n      <td>-114.482</td>\n      <td>1570</td>\n      <td>10578</td>\n      <td>3</td>\n      <td>71</td>\n      <td>750000</td>\n      <td>1</td>\n    </tr>\n    <tr>\n      <th>8</th>\n      <td>6762813600</td>\n      <td>42491</td>\n      <td>3</td>\n      <td>2.50</td>\n      <td>2390</td>\n      <td>6550</td>\n      <td>1.0</td>\n      <td>0</td>\n      <td>2</td>\n      <td>4</td>\n      <td>...</td>\n      <td>0</td>\n      <td>122009</td>\n      <td>52.8014</td>\n      <td>-114.598</td>\n      <td>2010</td>\n      <td>6550</td>\n      <td>1</td>\n      <td>73</td>\n      <td>750000</td>\n      <td>1</td>\n    </tr>\n    <tr>\n      <th>9</th>\n      <td>6762814461</td>\n      <td>42491</td>\n      <td>4</td>\n      <td>2.25</td>\n      <td>2200</td>\n      <td>11250</td>\n      <td>1.5</td>\n      <td>0</td>\n      <td>0</td>\n      <td>5</td>\n      <td>...</td>\n      <td>0</td>\n      <td>122010</td>\n      <td>52.9145</td>\n      <td>-114.391</td>\n      <td>2320</td>\n      <td>10814</td>\n      <td>2</td>\n      <td>53</td>\n      <td>698000</td>\n      <td>1</td>\n    </tr>\n  </tbody>\n</table>\n<p>10 rows × 24 columns</p>\n</div>"
     },
     "execution_count": 10,
     "metadata": {},
     "output_type": "execute_result"
    }
   ],
   "source": [
    "labels = [0, 1, 2]\n",
    "bins = [-float(\"inf\"), threshold1, threshold2, float(\"inf\")]\n",
    "houses_df[\"price_category\"] = pd.cut(houses_df[\"Price\"], bins=bins, labels=labels, include_lowest=True)\n",
    "\n",
    "houses_df.head(10)"
   ]
  },
  {
   "cell_type": "code",
   "execution_count": 11,
   "metadata": {
    "ExecuteTime": {
     "end_time": "2024-04-07T15:26:42.266313Z",
     "start_time": "2024-04-07T15:26:42.253318Z"
    }
   },
   "outputs": [
    {
     "name": "stdout",
     "output_type": "stream",
     "text": [
      "1    6912\n",
      "0    5307\n",
      "2    2401\n",
      "Name: price_category, dtype: int64\n"
     ]
    }
   ],
   "source": [
    "category_counts = houses_df['price_category'].value_counts()\n",
    "print(category_counts)\n"
   ]
  },
  {
   "cell_type": "markdown",
   "metadata": {},
   "source": [
    "<h1>Creation of the training set, validation set and testing set</h1>"
   ]
  },
  {
   "cell_type": "code",
   "execution_count": 12,
   "metadata": {
    "ExecuteTime": {
     "end_time": "2024-04-07T15:26:45.697141Z",
     "start_time": "2024-04-07T15:26:45.653373Z"
    }
   },
   "outputs": [],
   "source": [
    "from sklearn.model_selection import train_test_split\n",
    "\n",
    "y = np.array(houses_df['price_category'])\n",
    "X = houses_df.drop(['Price','price_category'],axis=1)\n",
    "\n",
    "X_used, X_test, y_used, y_test = train_test_split(\n",
    "    X, y, stratify=y, test_size=0.2, random_state=42\n",
    ")\n",
    "\n",
    "X_train, X_val, y_train, y_val = train_test_split(\n",
    "    X_used, y_used, stratify=y_used, test_size=1/8, random_state=42\n",
    ")"
   ]
  },
  {
   "cell_type": "markdown",
   "metadata": {},
   "source": [
    "<h1>How models work on unchanged data?</h1>"
   ]
  },
  {
   "cell_type": "code",
   "execution_count": 13,
   "metadata": {
    "ExecuteTime": {
     "end_time": "2024-04-07T15:26:48.005872Z",
     "start_time": "2024-04-07T15:26:47.993511Z"
    }
   },
   "outputs": [],
   "source": [
    "dc = DummyClassifier(strategy='most_frequent', random_state=14)\n",
    "lr = LogisticRegression(max_iter=1000, penalty= 'l2', solver='saga')\n",
    "dt = DecisionTreeClassifier(max_depth=7)\n",
    "nb  = GaussianNB()\n",
    "estimators=[('DummyClassifier: ', dc), ('LogisticRegression: ', lr), ('DecisionTree: ', dt), ('NaiveBayes: ', nb)]"
   ]
  },
  {
   "cell_type": "code",
   "execution_count": 14,
   "metadata": {
    "ExecuteTime": {
     "end_time": "2024-04-07T15:26:59.845088Z",
     "start_time": "2024-04-07T15:26:50.299187Z"
    }
   },
   "outputs": [
    {
     "name": "stdout",
     "output_type": "stream",
     "text": [
      "DummyClassifier: : 0.472640218878249\n",
      "LogisticRegression: : 0.472640218878249\n",
      "DecisionTree: : 0.9832421340629275\n",
      "NaiveBayes: : 0.8594391244870041\n"
     ]
    }
   ],
   "source": [
    "for estimator in estimators:\n",
    "    estimator[1].fit(X_train, y_train)\n",
    "    y_pred = estimator[1].predict(X_test)\n",
    "    print(f'{estimator[0]}: {accuracy_score(y_test, y_pred)}')"
   ]
  },
  {
   "cell_type": "markdown",
   "metadata": {},
   "source": [
    "<h1>But why accuracy is co high?</h1>"
   ]
  },
  {
   "cell_type": "code",
   "execution_count": 18,
   "metadata": {
    "ExecuteTime": {
     "end_time": "2024-04-07T09:50:50.749753Z",
     "start_time": "2024-04-07T09:50:50.674827Z"
    }
   },
   "outputs": [
    {
     "data": {
      "text/plain": "                 id          Date  number of bedrooms  number of bathrooms  \\\ncount  1.462000e+04  14620.000000        14620.000000         14620.000000   \nmean   6.762821e+09  42604.538646            3.379343             2.129583   \nstd    6.237575e+03     67.347991            0.938719             0.769934   \nmin    6.762810e+09  42491.000000            1.000000             0.500000   \n25%    6.762815e+09  42546.000000            3.000000             1.750000   \n50%    6.762821e+09  42600.000000            3.000000             2.250000   \n75%    6.762826e+09  42662.000000            4.000000             2.500000   \nmax    6.762832e+09  42734.000000           33.000000             8.000000   \n\n        living area      lot area  number of floors  waterfront present  \\\ncount  14620.000000  1.462000e+04      14620.000000        14620.000000   \nmean    2098.262996  1.509328e+04          1.502360            0.007661   \nstd      928.275721  3.791962e+04          0.540239            0.087193   \nmin      370.000000  5.200000e+02          1.000000            0.000000   \n25%     1440.000000  5.010750e+03          1.000000            0.000000   \n50%     1930.000000  7.620000e+03          1.500000            0.000000   \n75%     2570.000000  1.080000e+04          2.000000            0.000000   \nmax    13540.000000  1.074218e+06          3.500000            1.000000   \n\n       number of views  condition of the house  ...    Built Year  \\\ncount     14620.000000            14620.000000  ...  14620.000000   \nmean          0.233105                3.430506  ...   1970.926402   \nstd           0.766259                0.664151  ...     29.493625   \nmin           0.000000                1.000000  ...   1900.000000   \n25%           0.000000                3.000000  ...   1951.000000   \n50%           0.000000                3.000000  ...   1975.000000   \n75%           0.000000                4.000000  ...   1997.000000   \nmax           4.000000                5.000000  ...   2015.000000   \n\n       Renovation Year    Postal Code     Lattitude     Longitude  \\\ncount     14620.000000   14620.000000  14620.000000  14620.000000   \nmean         90.924008  122033.062244     52.792848   -114.404007   \nstd         416.216661      19.082418      0.137522      0.141326   \nmin           0.000000  122003.000000     52.385900   -114.709000   \n25%           0.000000  122017.000000     52.707600   -114.519000   \n50%           0.000000  122032.000000     52.806400   -114.421000   \n75%           0.000000  122048.000000     52.908900   -114.315000   \nmax        2015.000000  122072.000000     53.007600   -113.505000   \n\n       living_area_renov  lot_area_renov  Number of schools nearby  \\\ncount       14620.000000    14620.000000              14620.000000   \nmean         1996.702257    12753.500068                  2.012244   \nstd           691.093366    26058.414467                  0.817284   \nmin           460.000000      651.000000                  1.000000   \n25%          1490.000000     5097.750000                  1.000000   \n50%          1850.000000     7620.000000                  2.000000   \n75%          2380.000000    10125.000000                  3.000000   \nmax          6110.000000   560617.000000                  3.000000   \n\n       Distance from the airport         Price  \ncount               14620.000000  1.462000e+04  \nmean                   64.950958  5.389322e+05  \nstd                     8.936008  3.675324e+05  \nmin                    50.000000  7.800000e+04  \n25%                    57.000000  3.200000e+05  \n50%                    65.000000  4.500000e+05  \n75%                    73.000000  6.450000e+05  \nmax                    80.000000  7.700000e+06  \n\n[8 rows x 23 columns]",
      "text/html": "<div>\n<style scoped>\n    .dataframe tbody tr th:only-of-type {\n        vertical-align: middle;\n    }\n\n    .dataframe tbody tr th {\n        vertical-align: top;\n    }\n\n    .dataframe thead th {\n        text-align: right;\n    }\n</style>\n<table border=\"1\" class=\"dataframe\">\n  <thead>\n    <tr style=\"text-align: right;\">\n      <th></th>\n      <th>id</th>\n      <th>Date</th>\n      <th>number of bedrooms</th>\n      <th>number of bathrooms</th>\n      <th>living area</th>\n      <th>lot area</th>\n      <th>number of floors</th>\n      <th>waterfront present</th>\n      <th>number of views</th>\n      <th>condition of the house</th>\n      <th>...</th>\n      <th>Built Year</th>\n      <th>Renovation Year</th>\n      <th>Postal Code</th>\n      <th>Lattitude</th>\n      <th>Longitude</th>\n      <th>living_area_renov</th>\n      <th>lot_area_renov</th>\n      <th>Number of schools nearby</th>\n      <th>Distance from the airport</th>\n      <th>Price</th>\n    </tr>\n  </thead>\n  <tbody>\n    <tr>\n      <th>count</th>\n      <td>1.462000e+04</td>\n      <td>14620.000000</td>\n      <td>14620.000000</td>\n      <td>14620.000000</td>\n      <td>14620.000000</td>\n      <td>1.462000e+04</td>\n      <td>14620.000000</td>\n      <td>14620.000000</td>\n      <td>14620.000000</td>\n      <td>14620.000000</td>\n      <td>...</td>\n      <td>14620.000000</td>\n      <td>14620.000000</td>\n      <td>14620.000000</td>\n      <td>14620.000000</td>\n      <td>14620.000000</td>\n      <td>14620.000000</td>\n      <td>14620.000000</td>\n      <td>14620.000000</td>\n      <td>14620.000000</td>\n      <td>1.462000e+04</td>\n    </tr>\n    <tr>\n      <th>mean</th>\n      <td>6.762821e+09</td>\n      <td>42604.538646</td>\n      <td>3.379343</td>\n      <td>2.129583</td>\n      <td>2098.262996</td>\n      <td>1.509328e+04</td>\n      <td>1.502360</td>\n      <td>0.007661</td>\n      <td>0.233105</td>\n      <td>3.430506</td>\n      <td>...</td>\n      <td>1970.926402</td>\n      <td>90.924008</td>\n      <td>122033.062244</td>\n      <td>52.792848</td>\n      <td>-114.404007</td>\n      <td>1996.702257</td>\n      <td>12753.500068</td>\n      <td>2.012244</td>\n      <td>64.950958</td>\n      <td>5.389322e+05</td>\n    </tr>\n    <tr>\n      <th>std</th>\n      <td>6.237575e+03</td>\n      <td>67.347991</td>\n      <td>0.938719</td>\n      <td>0.769934</td>\n      <td>928.275721</td>\n      <td>3.791962e+04</td>\n      <td>0.540239</td>\n      <td>0.087193</td>\n      <td>0.766259</td>\n      <td>0.664151</td>\n      <td>...</td>\n      <td>29.493625</td>\n      <td>416.216661</td>\n      <td>19.082418</td>\n      <td>0.137522</td>\n      <td>0.141326</td>\n      <td>691.093366</td>\n      <td>26058.414467</td>\n      <td>0.817284</td>\n      <td>8.936008</td>\n      <td>3.675324e+05</td>\n    </tr>\n    <tr>\n      <th>min</th>\n      <td>6.762810e+09</td>\n      <td>42491.000000</td>\n      <td>1.000000</td>\n      <td>0.500000</td>\n      <td>370.000000</td>\n      <td>5.200000e+02</td>\n      <td>1.000000</td>\n      <td>0.000000</td>\n      <td>0.000000</td>\n      <td>1.000000</td>\n      <td>...</td>\n      <td>1900.000000</td>\n      <td>0.000000</td>\n      <td>122003.000000</td>\n      <td>52.385900</td>\n      <td>-114.709000</td>\n      <td>460.000000</td>\n      <td>651.000000</td>\n      <td>1.000000</td>\n      <td>50.000000</td>\n      <td>7.800000e+04</td>\n    </tr>\n    <tr>\n      <th>25%</th>\n      <td>6.762815e+09</td>\n      <td>42546.000000</td>\n      <td>3.000000</td>\n      <td>1.750000</td>\n      <td>1440.000000</td>\n      <td>5.010750e+03</td>\n      <td>1.000000</td>\n      <td>0.000000</td>\n      <td>0.000000</td>\n      <td>3.000000</td>\n      <td>...</td>\n      <td>1951.000000</td>\n      <td>0.000000</td>\n      <td>122017.000000</td>\n      <td>52.707600</td>\n      <td>-114.519000</td>\n      <td>1490.000000</td>\n      <td>5097.750000</td>\n      <td>1.000000</td>\n      <td>57.000000</td>\n      <td>3.200000e+05</td>\n    </tr>\n    <tr>\n      <th>50%</th>\n      <td>6.762821e+09</td>\n      <td>42600.000000</td>\n      <td>3.000000</td>\n      <td>2.250000</td>\n      <td>1930.000000</td>\n      <td>7.620000e+03</td>\n      <td>1.500000</td>\n      <td>0.000000</td>\n      <td>0.000000</td>\n      <td>3.000000</td>\n      <td>...</td>\n      <td>1975.000000</td>\n      <td>0.000000</td>\n      <td>122032.000000</td>\n      <td>52.806400</td>\n      <td>-114.421000</td>\n      <td>1850.000000</td>\n      <td>7620.000000</td>\n      <td>2.000000</td>\n      <td>65.000000</td>\n      <td>4.500000e+05</td>\n    </tr>\n    <tr>\n      <th>75%</th>\n      <td>6.762826e+09</td>\n      <td>42662.000000</td>\n      <td>4.000000</td>\n      <td>2.500000</td>\n      <td>2570.000000</td>\n      <td>1.080000e+04</td>\n      <td>2.000000</td>\n      <td>0.000000</td>\n      <td>0.000000</td>\n      <td>4.000000</td>\n      <td>...</td>\n      <td>1997.000000</td>\n      <td>0.000000</td>\n      <td>122048.000000</td>\n      <td>52.908900</td>\n      <td>-114.315000</td>\n      <td>2380.000000</td>\n      <td>10125.000000</td>\n      <td>3.000000</td>\n      <td>73.000000</td>\n      <td>6.450000e+05</td>\n    </tr>\n    <tr>\n      <th>max</th>\n      <td>6.762832e+09</td>\n      <td>42734.000000</td>\n      <td>33.000000</td>\n      <td>8.000000</td>\n      <td>13540.000000</td>\n      <td>1.074218e+06</td>\n      <td>3.500000</td>\n      <td>1.000000</td>\n      <td>4.000000</td>\n      <td>5.000000</td>\n      <td>...</td>\n      <td>2015.000000</td>\n      <td>2015.000000</td>\n      <td>122072.000000</td>\n      <td>53.007600</td>\n      <td>-113.505000</td>\n      <td>6110.000000</td>\n      <td>560617.000000</td>\n      <td>3.000000</td>\n      <td>80.000000</td>\n      <td>7.700000e+06</td>\n    </tr>\n  </tbody>\n</table>\n<p>8 rows × 23 columns</p>\n</div>"
     },
     "execution_count": 18,
     "metadata": {},
     "output_type": "execute_result"
    }
   ],
   "source": [
    "houses_df.describe()"
   ]
  },
  {
   "cell_type": "code",
   "execution_count": 74,
   "metadata": {},
   "outputs": [
    {
     "data": {
      "text/html": [
       "<div>\n",
       "<style scoped>\n",
       "    .dataframe tbody tr th:only-of-type {\n",
       "        vertical-align: middle;\n",
       "    }\n",
       "\n",
       "    .dataframe tbody tr th {\n",
       "        vertical-align: top;\n",
       "    }\n",
       "\n",
       "    .dataframe thead th {\n",
       "        text-align: right;\n",
       "    }\n",
       "</style>\n",
       "<table border=\"1\" class=\"dataframe\">\n",
       "  <thead>\n",
       "    <tr style=\"text-align: right;\">\n",
       "      <th></th>\n",
       "      <th>id</th>\n",
       "      <th>Date</th>\n",
       "      <th>number of bedrooms</th>\n",
       "      <th>number of bathrooms</th>\n",
       "      <th>living area</th>\n",
       "      <th>lot area</th>\n",
       "      <th>number of floors</th>\n",
       "      <th>waterfront present</th>\n",
       "      <th>number of views</th>\n",
       "      <th>condition of the house</th>\n",
       "      <th>...</th>\n",
       "      <th>Renovation Year</th>\n",
       "      <th>Postal Code</th>\n",
       "      <th>Lattitude</th>\n",
       "      <th>Longitude</th>\n",
       "      <th>living_area_renov</th>\n",
       "      <th>lot_area_renov</th>\n",
       "      <th>Number of schools nearby</th>\n",
       "      <th>Distance from the airport</th>\n",
       "      <th>Price</th>\n",
       "      <th>price_category</th>\n",
       "    </tr>\n",
       "  </thead>\n",
       "  <tbody>\n",
       "    <tr>\n",
       "      <th>0</th>\n",
       "      <td>6762810145</td>\n",
       "      <td>42491</td>\n",
       "      <td>5</td>\n",
       "      <td>2.50</td>\n",
       "      <td>3650</td>\n",
       "      <td>9050</td>\n",
       "      <td>2.0</td>\n",
       "      <td>0</td>\n",
       "      <td>4</td>\n",
       "      <td>5</td>\n",
       "      <td>...</td>\n",
       "      <td>0</td>\n",
       "      <td>122003</td>\n",
       "      <td>52.8645</td>\n",
       "      <td>-114.557</td>\n",
       "      <td>2880</td>\n",
       "      <td>5400</td>\n",
       "      <td>2</td>\n",
       "      <td>58</td>\n",
       "      <td>2380000</td>\n",
       "      <td>2</td>\n",
       "    </tr>\n",
       "    <tr>\n",
       "      <th>1</th>\n",
       "      <td>6762810635</td>\n",
       "      <td>42491</td>\n",
       "      <td>4</td>\n",
       "      <td>2.50</td>\n",
       "      <td>2920</td>\n",
       "      <td>4000</td>\n",
       "      <td>1.5</td>\n",
       "      <td>0</td>\n",
       "      <td>0</td>\n",
       "      <td>5</td>\n",
       "      <td>...</td>\n",
       "      <td>0</td>\n",
       "      <td>122004</td>\n",
       "      <td>52.8878</td>\n",
       "      <td>-114.470</td>\n",
       "      <td>2470</td>\n",
       "      <td>4000</td>\n",
       "      <td>2</td>\n",
       "      <td>51</td>\n",
       "      <td>1400000</td>\n",
       "      <td>2</td>\n",
       "    </tr>\n",
       "    <tr>\n",
       "      <th>2</th>\n",
       "      <td>6762810998</td>\n",
       "      <td>42491</td>\n",
       "      <td>5</td>\n",
       "      <td>2.75</td>\n",
       "      <td>2910</td>\n",
       "      <td>9480</td>\n",
       "      <td>1.5</td>\n",
       "      <td>0</td>\n",
       "      <td>0</td>\n",
       "      <td>3</td>\n",
       "      <td>...</td>\n",
       "      <td>0</td>\n",
       "      <td>122004</td>\n",
       "      <td>52.8852</td>\n",
       "      <td>-114.468</td>\n",
       "      <td>2940</td>\n",
       "      <td>6600</td>\n",
       "      <td>1</td>\n",
       "      <td>53</td>\n",
       "      <td>1200000</td>\n",
       "      <td>2</td>\n",
       "    </tr>\n",
       "    <tr>\n",
       "      <th>3</th>\n",
       "      <td>6762812605</td>\n",
       "      <td>42491</td>\n",
       "      <td>4</td>\n",
       "      <td>2.50</td>\n",
       "      <td>3310</td>\n",
       "      <td>42998</td>\n",
       "      <td>2.0</td>\n",
       "      <td>0</td>\n",
       "      <td>0</td>\n",
       "      <td>3</td>\n",
       "      <td>...</td>\n",
       "      <td>0</td>\n",
       "      <td>122005</td>\n",
       "      <td>52.9532</td>\n",
       "      <td>-114.321</td>\n",
       "      <td>3350</td>\n",
       "      <td>42847</td>\n",
       "      <td>3</td>\n",
       "      <td>76</td>\n",
       "      <td>838000</td>\n",
       "      <td>2</td>\n",
       "    </tr>\n",
       "    <tr>\n",
       "      <th>4</th>\n",
       "      <td>6762812919</td>\n",
       "      <td>42491</td>\n",
       "      <td>3</td>\n",
       "      <td>2.00</td>\n",
       "      <td>2710</td>\n",
       "      <td>4500</td>\n",
       "      <td>1.5</td>\n",
       "      <td>0</td>\n",
       "      <td>0</td>\n",
       "      <td>4</td>\n",
       "      <td>...</td>\n",
       "      <td>0</td>\n",
       "      <td>122006</td>\n",
       "      <td>52.9047</td>\n",
       "      <td>-114.485</td>\n",
       "      <td>2060</td>\n",
       "      <td>4500</td>\n",
       "      <td>1</td>\n",
       "      <td>51</td>\n",
       "      <td>805000</td>\n",
       "      <td>2</td>\n",
       "    </tr>\n",
       "    <tr>\n",
       "      <th>...</th>\n",
       "      <td>...</td>\n",
       "      <td>...</td>\n",
       "      <td>...</td>\n",
       "      <td>...</td>\n",
       "      <td>...</td>\n",
       "      <td>...</td>\n",
       "      <td>...</td>\n",
       "      <td>...</td>\n",
       "      <td>...</td>\n",
       "      <td>...</td>\n",
       "      <td>...</td>\n",
       "      <td>...</td>\n",
       "      <td>...</td>\n",
       "      <td>...</td>\n",
       "      <td>...</td>\n",
       "      <td>...</td>\n",
       "      <td>...</td>\n",
       "      <td>...</td>\n",
       "      <td>...</td>\n",
       "      <td>...</td>\n",
       "      <td>...</td>\n",
       "    </tr>\n",
       "    <tr>\n",
       "      <th>14605</th>\n",
       "      <td>6762825684</td>\n",
       "      <td>42734</td>\n",
       "      <td>3</td>\n",
       "      <td>1.75</td>\n",
       "      <td>1220</td>\n",
       "      <td>9732</td>\n",
       "      <td>1.0</td>\n",
       "      <td>0</td>\n",
       "      <td>0</td>\n",
       "      <td>3</td>\n",
       "      <td>...</td>\n",
       "      <td>0</td>\n",
       "      <td>122017</td>\n",
       "      <td>53.0036</td>\n",
       "      <td>-114.404</td>\n",
       "      <td>1630</td>\n",
       "      <td>10007</td>\n",
       "      <td>2</td>\n",
       "      <td>64</td>\n",
       "      <td>333500</td>\n",
       "      <td>0</td>\n",
       "    </tr>\n",
       "    <tr>\n",
       "      <th>14606</th>\n",
       "      <td>6762825822</td>\n",
       "      <td>42734</td>\n",
       "      <td>3</td>\n",
       "      <td>2.50</td>\n",
       "      <td>1990</td>\n",
       "      <td>9995</td>\n",
       "      <td>2.0</td>\n",
       "      <td>0</td>\n",
       "      <td>0</td>\n",
       "      <td>3</td>\n",
       "      <td>...</td>\n",
       "      <td>0</td>\n",
       "      <td>122043</td>\n",
       "      <td>52.6130</td>\n",
       "      <td>-114.495</td>\n",
       "      <td>1680</td>\n",
       "      <td>7511</td>\n",
       "      <td>2</td>\n",
       "      <td>80</td>\n",
       "      <td>330000</td>\n",
       "      <td>0</td>\n",
       "    </tr>\n",
       "    <tr>\n",
       "      <th>14607</th>\n",
       "      <td>6762825951</td>\n",
       "      <td>42734</td>\n",
       "      <td>3</td>\n",
       "      <td>2.50</td>\n",
       "      <td>1820</td>\n",
       "      <td>1866</td>\n",
       "      <td>2.0</td>\n",
       "      <td>0</td>\n",
       "      <td>0</td>\n",
       "      <td>3</td>\n",
       "      <td>...</td>\n",
       "      <td>0</td>\n",
       "      <td>122031</td>\n",
       "      <td>52.6943</td>\n",
       "      <td>-114.536</td>\n",
       "      <td>1660</td>\n",
       "      <td>6900</td>\n",
       "      <td>3</td>\n",
       "      <td>63</td>\n",
       "      <td>327500</td>\n",
       "      <td>0</td>\n",
       "    </tr>\n",
       "    <tr>\n",
       "      <th>14608</th>\n",
       "      <td>6762826539</td>\n",
       "      <td>42734</td>\n",
       "      <td>4</td>\n",
       "      <td>2.75</td>\n",
       "      <td>1580</td>\n",
       "      <td>3770</td>\n",
       "      <td>1.0</td>\n",
       "      <td>0</td>\n",
       "      <td>0</td>\n",
       "      <td>3</td>\n",
       "      <td>...</td>\n",
       "      <td>0</td>\n",
       "      <td>122055</td>\n",
       "      <td>52.9668</td>\n",
       "      <td>-114.158</td>\n",
       "      <td>1740</td>\n",
       "      <td>3800</td>\n",
       "      <td>1</td>\n",
       "      <td>51</td>\n",
       "      <td>315000</td>\n",
       "      <td>0</td>\n",
       "    </tr>\n",
       "    <tr>\n",
       "      <th>14609</th>\n",
       "      <td>6762826741</td>\n",
       "      <td>42734</td>\n",
       "      <td>3</td>\n",
       "      <td>2.00</td>\n",
       "      <td>1310</td>\n",
       "      <td>1361</td>\n",
       "      <td>3.0</td>\n",
       "      <td>0</td>\n",
       "      <td>0</td>\n",
       "      <td>3</td>\n",
       "      <td>...</td>\n",
       "      <td>0</td>\n",
       "      <td>122038</td>\n",
       "      <td>52.9637</td>\n",
       "      <td>-114.533</td>\n",
       "      <td>1370</td>\n",
       "      <td>1608</td>\n",
       "      <td>1</td>\n",
       "      <td>61</td>\n",
       "      <td>310000</td>\n",
       "      <td>0</td>\n",
       "    </tr>\n",
       "  </tbody>\n",
       "</table>\n",
       "<p>14610 rows × 24 columns</p>\n",
       "</div>"
      ],
      "text/plain": [
       "               id   Date  number of bedrooms  number of bathrooms  \\\n",
       "0      6762810145  42491                   5                 2.50   \n",
       "1      6762810635  42491                   4                 2.50   \n",
       "2      6762810998  42491                   5                 2.75   \n",
       "3      6762812605  42491                   4                 2.50   \n",
       "4      6762812919  42491                   3                 2.00   \n",
       "...           ...    ...                 ...                  ...   \n",
       "14605  6762825684  42734                   3                 1.75   \n",
       "14606  6762825822  42734                   3                 2.50   \n",
       "14607  6762825951  42734                   3                 2.50   \n",
       "14608  6762826539  42734                   4                 2.75   \n",
       "14609  6762826741  42734                   3                 2.00   \n",
       "\n",
       "       living area  lot area  number of floors  waterfront present  \\\n",
       "0             3650      9050               2.0                   0   \n",
       "1             2920      4000               1.5                   0   \n",
       "2             2910      9480               1.5                   0   \n",
       "3             3310     42998               2.0                   0   \n",
       "4             2710      4500               1.5                   0   \n",
       "...            ...       ...               ...                 ...   \n",
       "14605         1220      9732               1.0                   0   \n",
       "14606         1990      9995               2.0                   0   \n",
       "14607         1820      1866               2.0                   0   \n",
       "14608         1580      3770               1.0                   0   \n",
       "14609         1310      1361               3.0                   0   \n",
       "\n",
       "       number of views  condition of the house  ...  Renovation Year  \\\n",
       "0                    4                       5  ...                0   \n",
       "1                    0                       5  ...                0   \n",
       "2                    0                       3  ...                0   \n",
       "3                    0                       3  ...                0   \n",
       "4                    0                       4  ...                0   \n",
       "...                ...                     ...  ...              ...   \n",
       "14605                0                       3  ...                0   \n",
       "14606                0                       3  ...                0   \n",
       "14607                0                       3  ...                0   \n",
       "14608                0                       3  ...                0   \n",
       "14609                0                       3  ...                0   \n",
       "\n",
       "       Postal Code  Lattitude  Longitude  living_area_renov  lot_area_renov  \\\n",
       "0           122003    52.8645   -114.557               2880            5400   \n",
       "1           122004    52.8878   -114.470               2470            4000   \n",
       "2           122004    52.8852   -114.468               2940            6600   \n",
       "3           122005    52.9532   -114.321               3350           42847   \n",
       "4           122006    52.9047   -114.485               2060            4500   \n",
       "...            ...        ...        ...                ...             ...   \n",
       "14605       122017    53.0036   -114.404               1630           10007   \n",
       "14606       122043    52.6130   -114.495               1680            7511   \n",
       "14607       122031    52.6943   -114.536               1660            6900   \n",
       "14608       122055    52.9668   -114.158               1740            3800   \n",
       "14609       122038    52.9637   -114.533               1370            1608   \n",
       "\n",
       "       Number of schools nearby  Distance from the airport    Price  \\\n",
       "0                             2                         58  2380000   \n",
       "1                             2                         51  1400000   \n",
       "2                             1                         53  1200000   \n",
       "3                             3                         76   838000   \n",
       "4                             1                         51   805000   \n",
       "...                         ...                        ...      ...   \n",
       "14605                         2                         64   333500   \n",
       "14606                         2                         80   330000   \n",
       "14607                         3                         63   327500   \n",
       "14608                         1                         51   315000   \n",
       "14609                         1                         61   310000   \n",
       "\n",
       "       price_category  \n",
       "0                   2  \n",
       "1                   2  \n",
       "2                   2  \n",
       "3                   2  \n",
       "4                   2  \n",
       "...               ...  \n",
       "14605               0  \n",
       "14606               0  \n",
       "14607               0  \n",
       "14608               0  \n",
       "14609               0  \n",
       "\n",
       "[14610 rows x 24 columns]"
      ]
     },
     "execution_count": 74,
     "metadata": {},
     "output_type": "execute_result"
    }
   ],
   "source": [
    "houses_df.head(-10)"
   ]
  },
  {
   "cell_type": "markdown",
   "metadata": {},
   "source": [
    "<h1>Now without cheating...</h1>"
   ]
  },
  {
   "cell_type": "code",
   "execution_count": 15,
   "metadata": {
    "ExecuteTime": {
     "end_time": "2024-04-07T15:26:59.860674Z",
     "start_time": "2024-04-07T15:26:59.847278Z"
    }
   },
   "outputs": [],
   "source": [
    "X_train = X_train.drop(['id', 'Date'], axis=1)\n",
    "X_test = X_test.drop(['id', 'Date'], axis=1)"
   ]
  },
  {
   "cell_type": "code",
   "execution_count": 16,
   "metadata": {
    "ExecuteTime": {
     "end_time": "2024-04-07T15:27:07.533626Z",
     "start_time": "2024-04-07T15:27:00.632276Z"
    }
   },
   "outputs": [
    {
     "name": "stdout",
     "output_type": "stream",
     "text": [
      "DummyClassifier: : 0.472640218878249\n",
      "LogisticRegression: : 0.603967168262654\n",
      "DecisionTree: : 0.8132694938440492\n",
      "NaiveBayes: : 0.6121751025991792\n"
     ]
    }
   ],
   "source": [
    "for estimator in estimators:\n",
    "    estimator[1].fit(X_train, y_train)\n",
    "    y_pred = estimator[1].predict(X_test)\n",
    "    print(f'{estimator[0]}: {accuracy_score(y_test, y_pred)}')"
   ]
  },
  {
   "cell_type": "markdown",
   "metadata": {},
   "source": [
    "<h1>Let's get rid of some columns</h1>"
   ]
  },
  {
   "cell_type": "code",
   "execution_count": 17,
   "metadata": {
    "ExecuteTime": {
     "end_time": "2024-04-07T15:27:09.252562Z",
     "start_time": "2024-04-07T15:27:09.237897Z"
    }
   },
   "outputs": [],
   "source": [
    "X_train = X_train.drop(['lot area','condition of the house', 'Area of the house(excluding basement)','Built Year', 'Postal Code','lot_area_renov','Number of schools nearby','Distance from the airport'],axis=1)\n",
    "X_test = X_test.drop(['lot area','condition of the house', 'Area of the house(excluding basement)','Built Year', 'Postal Code','lot_area_renov','Number of schools nearby','Distance from the airport'],axis=1)"
   ]
  },
  {
   "cell_type": "code",
   "execution_count": 18,
   "metadata": {
    "ExecuteTime": {
     "end_time": "2024-04-07T15:27:19.865004Z",
     "start_time": "2024-04-07T15:27:10.840458Z"
    }
   },
   "outputs": [
    {
     "name": "stdout",
     "output_type": "stream",
     "text": [
      "DummyClassifier: : 0.472640218878249\n",
      "LogisticRegression: : 0.615595075239398\n",
      "DecisionTree: : 0.8122435020519836\n",
      "NaiveBayes: : 0.6836525307797537\n"
     ]
    }
   ],
   "source": [
    "for estimator in estimators:\n",
    "    estimator[1].fit(X_train, y_train)\n",
    "    y_pred = estimator[1].predict(X_test)\n",
    "    print(f'{estimator[0]}: {accuracy_score(y_test, y_pred)}')"
   ]
  },
  {
   "cell_type": "markdown",
   "metadata": {},
   "source": [
    "<h1>Other improvements?</h1>"
   ]
  },
  {
   "cell_type": "code",
   "execution_count": 19,
   "metadata": {
    "ExecuteTime": {
     "end_time": "2024-04-07T15:28:29.400021Z",
     "start_time": "2024-04-07T15:28:29.365887Z"
    }
   },
   "outputs": [],
   "source": [
    "X_train['Renovated'] = [1 if e > 0 else 0 for e in X_train['Renovation Year']]\n",
    "X_test['Renovated'] = [1 if e > 0 else 0 for e in X_test['Renovation Year']]\n",
    "X_train.drop(['Renovation Year'], axis=1)\n",
    "X_test.drop(['Renovation Year'], axis=1)\n",
    "X_train['living area'] = np.log1p(X_train['living area'])\n",
    "X_train['living_area_renov'] = np.log1p(X_train['living_area_renov'])\n",
    "X_test['living area'] = np.log1p(X_test['living area'])\n",
    "X_test['living_area_renov'] = np.log1p(X_test['living_area_renov'])"
   ]
  },
  {
   "cell_type": "code",
   "execution_count": 20,
   "metadata": {
    "ExecuteTime": {
     "end_time": "2024-04-07T15:28:40.460343Z",
     "start_time": "2024-04-07T15:28:30.757756Z"
    }
   },
   "outputs": [
    {
     "name": "stdout",
     "output_type": "stream",
     "text": [
      "DummyClassifier: : 0.472640218878249\n",
      "LogisticRegression: : 0.6008891928864569\n",
      "DecisionTree: : 0.810875512995896\n",
      "NaiveBayes: : 0.6795485636114911\n"
     ]
    }
   ],
   "source": [
    "for estimator in estimators:\n",
    "    estimator[1].fit(X_train, y_train)\n",
    "    y_pred = estimator[1].predict(X_test)\n",
    "    print(f'{estimator[0]}: {accuracy_score(y_test, y_pred)}')"
   ]
  },
  {
   "cell_type": "code",
   "execution_count": 21,
   "metadata": {
    "ExecuteTime": {
     "end_time": "2024-04-07T15:29:12.933605Z",
     "start_time": "2024-04-07T15:29:09.802072Z"
    }
   },
   "outputs": [
    {
     "data": {
      "text/plain": "<Figure size 1440x1080 with 12 Axes>",
      "image/png": "[encoded data removed]"
     },
     "metadata": {},
     "output_type": "display_data"
    }
   ],
   "source": [
    "fig, axs = plt.subplots(3,4, figsize=(20,15))\n",
    "axs = axs.flatten()\n",
    "for i,col in enumerate(X_train.columns[0:12]):\n",
    "    sns.boxplot(data=X_train, y=col, ax=axs[i])\n",
    "plt.tight_layout()"
   ]
  },
  {
   "cell_type": "code",
   "execution_count": 22,
   "metadata": {
    "ExecuteTime": {
     "end_time": "2024-04-07T15:29:17.490385Z",
     "start_time": "2024-04-07T15:29:12.935784Z"
    }
   },
   "outputs": [
    {
     "data": {
      "text/plain": "<Figure size 1440x1080 with 12 Axes>",
      "image/png": "[encoded data removed]"
     },
     "metadata": {},
     "output_type": "display_data"
    }
   ],
   "source": [
    "fig, axs = plt.subplots(3,4, figsize=(20,15))\n",
    "axs = axs.flatten()\n",
    "for i,col in enumerate(X_train.columns[0:12]):\n",
    "    sns.histplot(data=X_train, x=col, ax=axs[i])\n",
    "plt.tight_layout()"
   ]
  },
  {
   "cell_type": "markdown",
   "metadata": {},
   "source": [
    "<h1>Eliminating outliers (3σ)</h1>"
   ]
  },
  {
   "cell_type": "markdown",
   "metadata": {},
   "source": [
    "![image](https://www.brightwalldarkroom.com/wp-content/uploads/2019/06/american-psycho-bale-e1560539531621.jpg)"
   ]
  },
  {
   "cell_type": "code",
   "execution_count": 23,
   "metadata": {
    "ExecuteTime": {
     "end_time": "2024-04-07T15:29:20.179720Z",
     "start_time": "2024-04-07T15:29:20.162229Z"
    }
   },
   "outputs": [],
   "source": [
    "X_train.reset_index(drop=True, inplace=True)\n",
    "\n",
    "upper_limit = X_train['living area'].mean () + X_train['living area'].std () * 3\n",
    "lower_limit = X_train['living area'].mean () - X_train['living area'].std () * 3\n",
    "\n",
    "X_train = X_train[( X_train['living area'] < upper_limit) & ( X_train['living area'] > lower_limit)]\n",
    "\n",
    "upper_limit = X_train['living_area_renov'].mean () + X_train['living_area_renov'].std () * 3\n",
    "lower_limit = X_train['living_area_renov'].mean () - X_train['living_area_renov'].std () * 3\n",
    "\n",
    "X_train = X_train[( X_train['living area'] < upper_limit) & ( X_train['living area'] > lower_limit)]\n",
    "\n",
    "y_train = y_train[(X_train.index)]"
   ]
  },
  {
   "cell_type": "code",
   "execution_count": 24,
   "metadata": {
    "ExecuteTime": {
     "end_time": "2024-04-07T15:29:27.666784Z",
     "start_time": "2024-04-07T15:29:20.950525Z"
    }
   },
   "outputs": [
    {
     "name": "stdout",
     "output_type": "stream",
     "text": [
      "DummyClassifier: : 0.472640218878249\n",
      "LogisticRegression: : 0.6169630642954856\n",
      "DecisionTree: : 0.8177154582763337\n",
      "NaiveBayes: : 0.6751025991792066\n"
     ]
    }
   ],
   "source": [
    "for estimator in estimators:\n",
    "    estimator[1].fit(X_train, y_train)\n",
    "    y_pred = estimator[1].predict(X_test)\n",
    "    print(f'{estimator[0]}: {accuracy_score(y_test, y_pred)}')"
   ]
  },
  {
   "cell_type": "markdown",
   "metadata": {},
   "source": [
    "<h1>Experiments</h1>"
   ]
  },
  {
   "cell_type": "code",
   "execution_count": 29,
   "metadata": {
    "ExecuteTime": {
     "end_time": "2024-04-07T09:53:12.776911Z",
     "start_time": "2024-04-07T09:53:12.743849Z"
    }
   },
   "outputs": [],
   "source": [
    "X_train_nobe = pd.DataFrame(X_train, columns=['number of bedrooms'])\n",
    "X_train_noba = pd.DataFrame(X_train, columns=[\"number of bathrooms\"])\n",
    "X_train_la = pd.DataFrame(X_train, columns=[\"living area\"])\n",
    "X_train_nof = pd.DataFrame(X_train, columns=['number of floors'])\n",
    "X_train_wf = pd.DataFrame(X_train, columns=['waterfront present'])\n",
    "X_train_nov = pd.DataFrame(X_train, columns=['number of views'])\n",
    "X_train_goth= pd.DataFrame(X_train, columns=['grade of the house'])\n",
    "X_train_aob = pd.DataFrame(X_train, columns=['Area of the basement'])\n",
    "X_train_r = pd.DataFrame(X_train, columns=['Renovated'])\n",
    "X_train_lar = pd.DataFrame(X_train, columns=['living_area_renov'])\n",
    "X_train_lat = pd.DataFrame(X_train, columns=['Latitude'])\n",
    "X_train_long = pd.DataFrame(X_train, columns=['Longitude'])\n",
    "\n",
    "X_test_nobe = pd.DataFrame(X_test, columns=['number of bedrooms'])\n",
    "X_test_noba = pd.DataFrame(X_test, columns=[\"number of bathrooms\"])\n",
    "X_test_la = pd.DataFrame(X_test, columns=[\"living area\"])\n",
    "X_test_nof = pd.DataFrame(X_test, columns=['number of floors'])\n",
    "X_test_wf = pd.DataFrame(X_test, columns=['waterfront present'])\n",
    "X_test_nov = pd.DataFrame(X_test, columns=['number of views'])\n",
    "X_test_goth= pd.DataFrame(X_test, columns=['grade of the house'])\n",
    "X_test_aob = pd.DataFrame(X_test, columns=['Area of the basement'])\n",
    "X_test_r = pd.DataFrame(X_test, columns=['Renovated'])\n",
    "X_test_lar = pd.DataFrame(X_test, columns=['living_area_renov'])\n",
    "X_test_lat = pd.DataFrame(X_test, columns=['Latitude'])\n",
    "X_test_long = pd.DataFrame(X_test, columns=['Longitude'])"
   ]
  },
  {
   "cell_type": "code",
   "execution_count": 25,
   "metadata": {
    "ExecuteTime": {
     "end_time": "2024-04-07T15:29:27.712971Z",
     "start_time": "2024-04-07T15:29:27.669143Z"
    }
   },
   "outputs": [],
   "source": [
    "from sklearn.preprocessing import StandardScaler\n",
    "from sklearn.preprocessing import MinMaxScaler\n",
    "\n",
    "sd = StandardScaler()\n",
    "mm = MinMaxScaler()\n",
    "\n",
    "tmp1 = X_train\n",
    "tmp_test1 = X_test\n",
    "\n",
    "tmp2 = sd.fit_transform(tmp1)\n",
    "tmp3 = mm.fit_transform(tmp1)\n",
    "\n",
    "tmp_test2 = sd.fit_transform(tmp_test1)\n",
    "tmp_test3 = mm.fit_transform(tmp_test1)"
   ]
  },
  {
   "cell_type": "code",
   "execution_count": 26,
   "metadata": {
    "ExecuteTime": {
     "end_time": "2024-04-07T15:29:28.461801Z",
     "start_time": "2024-04-07T15:29:28.448673Z"
    }
   },
   "outputs": [],
   "source": [
    "model1 = LogisticRegression(max_iter=1000, penalty= 'l2', solver='saga')\n",
    "model2 = DecisionTreeClassifier(max_depth=7)\n",
    "model3  = GaussianNB()\n",
    "model4 = SVC()\n",
    "model5 = KNeighborsClassifier(n_neighbors=10)\n",
    "estimators=[('LR', model1), ('DT', model2), ('NB', model3), ('SVC', model4), ('KNN', model5)]"
   ]
  },
  {
   "cell_type": "code",
   "execution_count": 27,
   "metadata": {
    "ExecuteTime": {
     "end_time": "2024-04-07T15:30:10.433815Z",
     "start_time": "2024-04-07T15:29:29.728898Z"
    }
   },
   "outputs": [
    {
     "name": "stdout",
     "output_type": "stream",
     "text": [
      "LR: 0.6169630642954856\n",
      "LR STD: 0.7705198358413132\n",
      "LR MM: 0.7445280437756497\n",
      "DT: 0.8177154582763337\n",
      "DT STD: 0.8119015047879617\n",
      "DT MM: 0.7626538987688098\n",
      "NB: 0.6751025991792066\n",
      "NB STD: 0.6730506155950753\n",
      "NB MM: 0.6658686730506156\n",
      "SVC: 0.48221614227086185\n",
      "SVC STD: 0.8248974008207934\n",
      "SVC MM: 0.7783857729138167\n",
      "KNN: 0.6908344733242134\n",
      "KNN STD: 0.8098495212038304\n",
      "KNN MM: 0.7811217510259918\n"
     ]
    }
   ],
   "source": [
    "for estimator in estimators:\n",
    "    estimator[1].fit(tmp1, y_train)\n",
    "    y_pred = estimator[1].predict(tmp_test1)\n",
    "    print(f'{estimator[0]}: {accuracy_score(y_test, y_pred)}')\n",
    "    estimator[1].fit(tmp2, y_train)\n",
    "    y_pred = estimator[1].predict(tmp_test2)\n",
    "    print(f'{estimator[0]} STD: {accuracy_score(y_test, y_pred)}')\n",
    "    estimator[1].fit(tmp3, y_train)\n",
    "    y_pred = estimator[1].predict(tmp_test3)\n",
    "    print(f'{estimator[0]} MM: {accuracy_score(y_test, y_pred)}')"
   ]
  },
  {
   "cell_type": "code",
   "execution_count": 28,
   "metadata": {
    "ExecuteTime": {
     "end_time": "2024-04-07T15:41:07.519565Z",
     "start_time": "2024-04-07T15:41:07.435112Z"
    }
   },
   "outputs": [],
   "source": [
    "model6 = RandomForestClassifier(n_estimators = 100, max_depth = 3, min_samples_split = 20, max_features = 4, random_state=42, n_jobs = -1)\n",
    "model7 = AdaBoostClassifier(random_state=1, algorithm = \"SAMME\", n_estimators=200)\n",
    "model8 = GradientBoostingClassifier(random_state=1, learning_rate=0.01, max_depth=2, min_samples_split=20, min_samples_leaf=20)\n",
    "model9 = XGBClassifier(random_state=1, n_estimators=200, learning_rate=0.01, booster=\"gbtree\", max_depth=3)\n",
    "estimators2=[('RF', model6), ('B', model7), ('GB', model8), ('XGB', model9)]"
   ]
  },
  {
   "cell_type": "code",
   "execution_count": 29,
   "metadata": {
    "ExecuteTime": {
     "end_time": "2024-04-07T15:41:29.075390Z",
     "start_time": "2024-04-07T15:41:08.572053Z"
    }
   },
   "outputs": [
    {
     "name": "stdout",
     "output_type": "stream",
     "text": [
      "RF: 0.7670998632010944\n",
      "RF STD: 0.7616279069767442\n",
      "RF MM: 0.7298221614227086\n",
      "B: 0.8136114911080712\n",
      "B STD: 0.8115595075239398\n",
      "B MM: 0.7975376196990424\n",
      "GB: 0.761969904240766\n",
      "GB STD: 0.7537619699042407\n",
      "GB MM: 0.6781805745554036\n",
      "XGB: 0.8064295485636115\n",
      "XGB STD: 0.7982216142270862\n",
      "XGB MM: 0.7349521203830369\n"
     ]
    }
   ],
   "source": [
    "for estimator in estimators2:\n",
    "    estimator[1].fit(tmp1, y_train)\n",
    "    print(f'{estimator[0]}: {estimator[1].score(tmp_test1, y_test)}')\n",
    "    estimator[1].fit(tmp2, y_train)\n",
    "    print(f'{estimator[0]} STD: {estimator[1].score(tmp_test2, y_test)}')\n",
    "    estimator[1].fit(tmp3, y_train)\n",
    "    print(f'{estimator[0]} MM: {estimator[1].score(tmp_test3, y_test)}')"
   ]
  },
  {
   "cell_type": "markdown",
   "metadata": {},
   "source": [
    "<h1>Conclusions</h1>"
   ]
  },
  {
   "cell_type": "code",
   "execution_count": 30,
   "metadata": {
    "ExecuteTime": {
     "end_time": "2024-04-07T15:41:29.105665Z",
     "start_time": "2024-04-07T15:41:29.077587Z"
    }
   },
   "outputs": [],
   "source": [
    "X_train['number of bedrooms'] = mm.fit_transform(pd.DataFrame(X_train['number of bedrooms']))\n",
    "X_test['number of bedrooms'] = mm.fit_transform(pd.DataFrame(X_test['number of bedrooms']))"
   ]
  },
  {
   "cell_type": "code",
   "execution_count": 31,
   "metadata": {
    "ExecuteTime": {
     "end_time": "2024-04-07T15:41:51.750082Z",
     "start_time": "2024-04-07T15:41:32.281675Z"
    }
   },
   "outputs": [
    {
     "name": "stdout",
     "output_type": "stream",
     "text": [
      "LR: 0.6207250341997264\n",
      "DT: 0.8177154582763337\n",
      "NB: 0.6792065663474692\n",
      "SVC: 0.48221614227086185\n",
      "KNN: 0.7038303693570451\n"
     ]
    }
   ],
   "source": [
    "for estimator in estimators:\n",
    "    estimator[1].fit(X_train, y_train)\n",
    "    y_pred = estimator[1].predict(X_test)\n",
    "    print(f'{estimator[0]}: {accuracy_score(y_test, y_pred)}')"
   ]
  },
  {
   "cell_type": "code",
   "execution_count": 32,
   "metadata": {
    "ExecuteTime": {
     "end_time": "2024-04-07T15:42:00.746602Z",
     "start_time": "2024-04-07T15:41:51.763111Z"
    }
   },
   "outputs": [
    {
     "name": "stdout",
     "output_type": "stream",
     "text": [
      "RF: 0.7660738714090287\n",
      "B: 0.8136114911080712\n",
      "GB: 0.761969904240766\n",
      "XGB: 0.8064295485636115\n"
     ]
    }
   ],
   "source": [
    "for estimator in estimators2:\n",
    "    estimator[1].fit(X_train, y_train)\n",
    "    print(f'{estimator[0]}: {estimator[1].score(X_test, y_test)}')   \n"
   ]
  },
  {
   "cell_type": "code",
   "execution_count": 33,
   "metadata": {
    "ExecuteTime": {
     "end_time": "2024-04-07T16:06:21.266889Z",
     "start_time": "2024-04-07T16:06:21.250794Z"
    }
   },
   "outputs": [],
   "source": [
    "from sklearn.metrics import classification_report\n",
    "from sklearn.metrics import confusion_matrix\n",
    "from sklearn.metrics import confusion_matrix, ConfusionMatrixDisplay"
   ]
  },
  {
   "cell_type": "code",
   "execution_count": 34,
   "metadata": {
    "ExecuteTime": {
     "end_time": "2024-04-07T16:06:22.427353Z",
     "start_time": "2024-04-07T16:06:22.346Z"
    }
   },
   "outputs": [
    {
     "name": "stdout",
     "output_type": "stream",
     "text": [
      "              precision    recall  f1-score   support\n",
      "\n",
      "           0    0.84177   0.86158   0.85156      1062\n",
      "           1    0.80868   0.82272   0.81564      1382\n",
      "           2    0.82135   0.73750   0.77717       480\n",
      "\n",
      "    accuracy                        0.82285      2924\n",
      "   macro avg    0.82393   0.80727   0.81479      2924\n",
      "weighted avg    0.82277   0.82285   0.82237      2924\n"
     ]
    }
   ],
   "source": [
    "dct = DecisionTreeClassifier(random_state=14, max_depth=11)\n",
    "dct.fit(X_train, y_train)\n",
    "y_pred = dct.predict(X_test)\n",
    "print(classification_report(y_test, y_pred, digits=5))"
   ]
  },
  {
   "cell_type": "code",
   "execution_count": 40,
   "metadata": {
    "ExecuteTime": {
     "end_time": "2024-04-07T10:22:43.621254Z",
     "start_time": "2024-04-07T10:22:43.330391Z"
    }
   },
   "outputs": [
    {
     "data": {
      "text/plain": "<sklearn.metrics._plot.confusion_matrix.ConfusionMatrixDisplay at 0x21025490430>"
     },
     "execution_count": 40,
     "metadata": {},
     "output_type": "execute_result"
    },
    {
     "data": {
      "text/plain": "<Figure size 432x288 with 2 Axes>",
      "image/png": "[encoded data removed]"
     },
     "metadata": {},
     "output_type": "display_data"
    }
   ],
   "source": [
    "cm = confusion_matrix(y_test, y_pred)\n",
    "plot = ConfusionMatrixDisplay(confusion_matrix=cm, display_labels= dct.classes_)\n",
    "plot.plot(cmap=\"inferno\")"
   ]
  },
  {
   "cell_type": "code",
   "execution_count": 41,
   "metadata": {
    "ExecuteTime": {
     "end_time": "2024-04-07T10:22:50.127690Z",
     "start_time": "2024-04-07T10:22:48.348390Z"
    }
   },
   "outputs": [
    {
     "name": "stdout",
     "output_type": "stream",
     "text": [
      "              precision    recall  f1-score   support\n",
      "\n",
      "           0    0.87018   0.80791   0.83789      1062\n",
      "           1    0.77329   0.85890   0.81385      1382\n",
      "           2    0.82878   0.69583   0.75651       480\n",
      "\n",
      "    accuracy                        0.81361      2924\n",
      "   macro avg    0.82409   0.78755   0.80275      2924\n",
      "weighted avg    0.81759   0.81361   0.81317      2924\n"
     ]
    }
   ],
   "source": [
    "abc = AdaBoostClassifier(random_state=1, algorithm = \"SAMME\", n_estimators=200)\n",
    "abc.fit(X_train, y_train)\n",
    "y_pred = abc.predict(X_test)\n",
    "print(classification_report(y_test, y_pred, digits=5))"
   ]
  },
  {
   "cell_type": "code",
   "execution_count": 42,
   "metadata": {
    "ExecuteTime": {
     "end_time": "2024-04-07T10:23:06.251928Z",
     "start_time": "2024-04-07T10:23:06.063940Z"
    }
   },
   "outputs": [
    {
     "data": {
      "text/plain": "<sklearn.metrics._plot.confusion_matrix.ConfusionMatrixDisplay at 0x210244c2cd0>"
     },
     "execution_count": 42,
     "metadata": {},
     "output_type": "execute_result"
    },
    {
     "data": {
      "text/plain": "<Figure size 432x288 with 2 Axes>",
      "image/png": "[encoded data removed]"
     },
     "metadata": {},
     "output_type": "display_data"
    }
   ],
   "source": [
    "cm = confusion_matrix(y_test, y_pred)\n",
    "plot = ConfusionMatrixDisplay(confusion_matrix=cm, display_labels= dct.classes_)\n",
    "plot.plot(cmap=\"inferno\")"
   ]
  },
  {
   "cell_type": "markdown",
   "metadata": {},
   "source": [
    "## Model Ensembles"
   ]
  },
  {
   "cell_type": "code",
   "outputs": [],
   "source": [
    "from sklearn.ensemble import VotingClassifier"
   ],
   "metadata": {
    "collapsed": false,
    "ExecuteTime": {
     "end_time": "2024-04-07T17:17:03.862557Z",
     "start_time": "2024-04-07T17:17:03.852217Z"
    }
   },
   "execution_count": 38
  },
  {
   "cell_type": "code",
   "outputs": [
    {
     "data": {
      "text/plain": "<sklearn.metrics._plot.confusion_matrix.ConfusionMatrixDisplay at 0x21025654fa0>"
     },
     "execution_count": 44,
     "metadata": {},
     "output_type": "execute_result"
    },
    {
     "data": {
      "text/plain": "<Figure size 432x288 with 2 Axes>",
      "image/png": "[encoded data removed]"
     },
     "metadata": {},
     "output_type": "display_data"
    }
   ],
   "source": [
    "ens_estimators2=[('dct',dct),('XGB',model9),(\"KNN\",model5)]\n",
    "model_ensemble2=VotingClassifier(estimators=ens_estimators2,voting='hard')\n",
    "model_ensemble2.fit(X_train, y_train)\n",
    "y_pred = model_ensemble2.predict(X_test)\n",
    "\n",
    "cm = confusion_matrix(y_test, y_pred)\n",
    "plot = ConfusionMatrixDisplay(confusion_matrix=cm, display_labels= model_ensemble2.classes_)\n",
    "plot.plot(cmap=\"inferno\")"
   ],
   "metadata": {
    "collapsed": false,
    "ExecuteTime": {
     "end_time": "2024-04-07T11:14:58.413925Z",
     "start_time": "2024-04-07T11:14:55.635414Z"
    }
   },
   "execution_count": 44
  },
  {
   "cell_type": "code",
   "outputs": [
    {
     "name": "stdout",
     "output_type": "stream",
     "text": [
      "              precision    recall  f1-score   support\n",
      "\n",
      "           0    0.85391   0.85311   0.85351      1062\n",
      "           1    0.77829   0.86107   0.81759      1382\n",
      "           2    0.87126   0.60625   0.71499       480\n",
      "\n",
      "    accuracy                        0.81635      2924\n",
      "   macro avg    0.83449   0.77348   0.79536      2924\n",
      "weighted avg    0.82102   0.81635   0.81379      2924\n"
     ]
    }
   ],
   "source": [
    "print(classification_report(y_test, y_pred, digits=5))\n"
   ],
   "metadata": {
    "collapsed": false,
    "ExecuteTime": {
     "end_time": "2024-04-07T11:15:51.104799Z",
     "start_time": "2024-04-07T11:15:51.090683Z"
    }
   },
   "execution_count": 45
  },
  {
   "cell_type": "code",
   "outputs": [
    {
     "name": "stdout",
     "output_type": "stream",
     "text": [
      "              precision    recall  f1-score   support\n",
      "\n",
      "           0    0.86263   0.84557   0.85402      1062\n",
      "           1    0.79933   0.86179   0.82939      1382\n",
      "           2    0.86768   0.71042   0.78121       480\n",
      "\n",
      "    accuracy                        0.83105      2924\n",
      "   macro avg    0.84322   0.80593   0.82154      2924\n",
      "weighted avg    0.83354   0.83105   0.83043      2924\n"
     ]
    },
    {
     "data": {
      "text/plain": "<Figure size 432x288 with 2 Axes>",
      "image/png": "[encoded data removed]"
     },
     "metadata": {},
     "output_type": "display_data"
    }
   ],
   "source": [
    "ens_estimators3=[('dct',dct),('XGB',model9),(\"KNN\",model5)]\n",
    "model_ensemble3=VotingClassifier(estimators=ens_estimators3,voting='soft')\n",
    "model_ensemble3.fit(X_train, y_train)\n",
    "y_pred = model_ensemble3.predict(X_test)\n",
    "\n",
    "cm = confusion_matrix(y_test, y_pred)\n",
    "plot = ConfusionMatrixDisplay(confusion_matrix=cm, display_labels= model_ensemble3.classes_)\n",
    "plot.plot(cmap=\"inferno\")\n",
    "print(classification_report(y_test, y_pred, digits=5))\n"
   ],
   "metadata": {
    "collapsed": false,
    "ExecuteTime": {
     "end_time": "2024-04-07T17:17:09.858042Z",
     "start_time": "2024-04-07T17:17:06.527862Z"
    }
   },
   "execution_count": 39
  },
  {
   "cell_type": "code",
   "outputs": [
    {
     "name": "stdout",
     "output_type": "stream",
     "text": [
      "              precision    recall  f1-score   support\n",
      "\n",
      "           0    0.85687   0.85122   0.85404      1062\n",
      "           1    0.80398   0.84877   0.82577      1382\n",
      "           2    0.84634   0.72292   0.77978       480\n",
      "\n",
      "    accuracy                        0.82900      2924\n",
      "   macro avg    0.83573   0.80764   0.81986      2924\n",
      "weighted avg    0.83014   0.82900   0.82848      2924\n"
     ]
    },
    {
     "data": {
      "text/plain": "<Figure size 432x288 with 2 Axes>",
      "image/png": "[encoded data removed]"
     },
     "metadata": {},
     "output_type": "display_data"
    }
   ],
   "source": [
    "ens_estimators4=[('dct',dct),('B',model7),(\"KNN\",model5)]\n",
    "model_ensemble4=VotingClassifier(estimators=ens_estimators4,voting='soft')\n",
    "model_ensemble4.fit(X_train, y_train)\n",
    "y_pred = model_ensemble4.predict(X_test)\n",
    "\n",
    "cm = confusion_matrix(y_test, y_pred)\n",
    "plot = ConfusionMatrixDisplay(confusion_matrix=cm, display_labels= model_ensemble4.classes_)\n",
    "plot.plot(cmap=\"inferno\")\n",
    "print(classification_report(y_test, y_pred, digits=5))\n"
   ],
   "metadata": {
    "collapsed": false,
    "ExecuteTime": {
     "end_time": "2024-04-07T11:28:05.330104Z",
     "start_time": "2024-04-07T11:28:03.261020Z"
    }
   },
   "execution_count": 49
  },
  {
   "cell_type": "code",
   "outputs": [
    {
     "ename": "NameError",
     "evalue": "name 'dct' is not defined",
     "output_type": "error",
     "traceback": [
      "\u001B[1;31m---------------------------------------------------------------------------\u001B[0m",
      "\u001B[1;31mNameError\u001B[0m                                 Traceback (most recent call last)",
      "Input \u001B[1;32mIn [1]\u001B[0m, in \u001B[0;36m<cell line: 1>\u001B[1;34m()\u001B[0m\n\u001B[1;32m----> 1\u001B[0m ens_estimators5\u001B[38;5;241m=\u001B[39m[(\u001B[38;5;124m'\u001B[39m\u001B[38;5;124mdct\u001B[39m\u001B[38;5;124m'\u001B[39m,\u001B[43mdct\u001B[49m),(\u001B[38;5;124m'\u001B[39m\u001B[38;5;124mXGB\u001B[39m\u001B[38;5;124m'\u001B[39m,model9),(\u001B[38;5;124m\"\u001B[39m\u001B[38;5;124mKNN\u001B[39m\u001B[38;5;124m\"\u001B[39m,model5),(\u001B[38;5;124m'\u001B[39m\u001B[38;5;124mRF\u001B[39m\u001B[38;5;124m'\u001B[39m, model6), (\u001B[38;5;124m'\u001B[39m\u001B[38;5;124mB\u001B[39m\u001B[38;5;124m'\u001B[39m, model7), (\u001B[38;5;124m'\u001B[39m\u001B[38;5;124mGB\u001B[39m\u001B[38;5;124m'\u001B[39m, model8)]\n\u001B[0;32m      2\u001B[0m model_ensemble5\u001B[38;5;241m=\u001B[39mVotingClassifier(estimators\u001B[38;5;241m=\u001B[39mens_estimators5,voting\u001B[38;5;241m=\u001B[39m\u001B[38;5;124m'\u001B[39m\u001B[38;5;124msoft\u001B[39m\u001B[38;5;124m'\u001B[39m)\n\u001B[0;32m      3\u001B[0m model_ensemble5\u001B[38;5;241m.\u001B[39mfit(X_train, y_train)\n",
      "\u001B[1;31mNameError\u001B[0m: name 'dct' is not defined"
     ]
    }
   ],
   "source": [
    "ens_estimators5=[('dct',dct),('XGB',model9),(\"KNN\",model5),('RF', model6), ('B', model7), ('GB', model8)]\n",
    "model_ensemble5=VotingClassifier(estimators=ens_estimators5,voting='soft')\n",
    "model_ensemble5.fit(X_train, y_train)\n",
    "y_pred = model_ensemble5.predict(X_test)\n",
    "\n",
    "cm = confusion_matrix(y_test, y_pred)\n",
    "plot = ConfusionMatrixDisplay(confusion_matrix=cm, display_labels= model_ensemble2.classes_)\n",
    "plot.plot(cmap=\"inferno\")\n",
    "print(classification_report(y_test, y_pred, digits=5))\n"
   ],
   "metadata": {
    "collapsed": false,
    "ExecuteTime": {
     "end_time": "2024-04-07T15:24:46.065706Z",
     "start_time": "2024-04-07T15:24:44.579224Z"
    }
   },
   "execution_count": 1
  },
  {
   "cell_type": "code",
   "outputs": [],
   "source": [
    "from sklearn.ensemble import StackingClassifier\n"
   ],
   "metadata": {
    "collapsed": false,
    "ExecuteTime": {
     "end_time": "2024-04-07T17:15:46.724720Z",
     "start_time": "2024-04-07T17:15:46.697392Z"
    }
   },
   "execution_count": 35
  },
  {
   "cell_type": "code",
   "execution_count": 99,
   "metadata": {},
   "outputs": [],
   "source": [
    "# lr = LogisticRegression(max_iter=1000, penalty= 'l2', solver='saga')\n",
    "# lr.fit(tmp1,y_train)\n",
    "# y_pred1 = lr.predict(tmp_test)\n",
    "# lr.fit(tmp2,y_train)\n",
    "# y_pred2 = lr.predict(tmp_test)\n",
    "# lr.fit(tmp3,y_train)\n",
    "# y_pred3 = lr.predict(tmp_test)\n",
    "# print(\"bez: \", accuracy_score(y_test, y_pred1))\n",
    "# print(\"standaryzacja: \", accuracy_score(y_test, y_pred2))\n",
    "# print(\"min- max: \", accuracy_score(y_test, y_pred3))"
   ]
  },
  {
   "cell_type": "code",
   "outputs": [
    {
     "name": "stdout",
     "output_type": "stream",
     "text": [
      "              precision    recall  f1-score   support\n",
      "\n",
      "           0    0.86507   0.85122   0.85809      1062\n",
      "           1    0.80667   0.85745   0.83129      1382\n",
      "           2    0.85610   0.73125   0.78876       480\n",
      "\n",
      "    accuracy                        0.83447      2924\n",
      "   macro avg    0.84261   0.81331   0.82605      2924\n",
      "weighted avg    0.83600   0.83447   0.83404      2924\n"
     ]
    }
   ],
   "source": [
    "clf = StackingClassifier(estimators=ens_estimators3, final_estimator=LogisticRegression(penalty='l2'))\n",
    "clf.fit(X_train, y_train).score(X_test, y_test)\n",
    "y_pred=clf.predict(X_test)\n",
    "print(classification_report(y_test, y_pred, digits=5))"
   ],
   "metadata": {
    "collapsed": false,
    "ExecuteTime": {
     "end_time": "2024-04-07T17:19:13.103243Z",
     "start_time": "2024-04-07T17:19:01.970541Z"
    }
   },
   "execution_count": 42
  },
  {
   "cell_type": "markdown",
   "source": [
    "## Bootstrap"
   ],
   "metadata": {
    "collapsed": false
   }
  },
  {
   "cell_type": "code",
   "outputs": [],
   "source": [
    "from sklearn.ensemble import BaggingClassifier\n"
   ],
   "metadata": {
    "collapsed": false,
    "ExecuteTime": {
     "end_time": "2024-04-07T17:22:10.172674Z",
     "start_time": "2024-04-07T17:22:10.151238Z"
    }
   },
   "execution_count": 44
  },
  {
   "cell_type": "code",
   "outputs": [
    {
     "name": "stdout",
     "output_type": "stream",
     "text": [
      "              precision    recall  f1-score   support\n",
      "\n",
      "           0    0.86519   0.88230   0.87366      1062\n",
      "           1    0.82654   0.85166   0.83892      1382\n",
      "           2    0.85372   0.74167   0.79376       480\n",
      "\n",
      "    accuracy                        0.84473      2924\n",
      "   macro avg    0.84848   0.82521   0.83544      2924\n",
      "weighted avg    0.84504   0.84473   0.84412      2924\n"
     ]
    }
   ],
   "source": [
    "bgc = BaggingClassifier(base_estimator=dct,\n",
    "                        n_estimators=10, random_state=0)\n",
    "bgc.fit(X_train, y_train)\n",
    "y_pred=bgc.predict(X_test)\n",
    "print(classification_report(y_test, y_pred, digits=5))"
   ],
   "metadata": {
    "collapsed": false,
    "ExecuteTime": {
     "end_time": "2024-04-07T17:25:01.136241Z",
     "start_time": "2024-04-07T17:25:00.679041Z"
    }
   },
   "execution_count": 47
  },
  {
   "cell_type": "code",
   "outputs": [
    {
     "name": "stdout",
     "output_type": "stream",
     "text": [
      "              precision    recall  f1-score   support\n",
      "\n",
      "           0    0.86660   0.82580   0.84571      1062\n",
      "           1    0.77954   0.85456   0.81533      1382\n",
      "           2    0.82620   0.68333   0.74800       480\n",
      "\n",
      "    accuracy                        0.81601      2924\n",
      "   macro avg    0.82411   0.78790   0.80301      2924\n",
      "weighted avg    0.81882   0.81601   0.81531      2924\n"
     ]
    }
   ],
   "source": [
    "bgc2 = BaggingClassifier(base_estimator=model7,\n",
    "                        n_estimators=10, random_state=0)\n",
    "bgc2.fit(X_train, y_train)\n",
    "y_pred=bgc2.predict(X_test)\n",
    "print(classification_report(y_test, y_pred, digits=5))"
   ],
   "metadata": {
    "collapsed": false,
    "ExecuteTime": {
     "end_time": "2024-04-07T17:29:15.272510Z",
     "start_time": "2024-04-07T17:29:04.140166Z"
    }
   },
   "execution_count": 53
  },
  {
   "cell_type": "markdown",
   "metadata": {},
   "source": [
    "## Drzewo decyzyjne"
   ]
  },
  {
   "cell_type": "code",
   "outputs": [
    {
     "name": "stdout",
     "output_type": "stream",
     "text": [
      "              precision    recall  f1-score   support\n",
      "\n",
      "           0    0.87309   0.86158   0.86730      1062\n",
      "           1    0.80430   0.86541   0.83374      1382\n",
      "           2    0.86118   0.69792   0.77100       480\n",
      "\n",
      "    accuracy                        0.83653      2924\n",
      "   macro avg    0.84619   0.80830   0.82401      2924\n",
      "weighted avg    0.83862   0.83653   0.83563      2924\n"
     ]
    },
    {
     "data": {
      "text/plain": "<Figure size 432x288 with 2 Axes>",
      "image/png": "[encoded data removed]"
     },
     "metadata": {},
     "output_type": "display_data"
    }
   ],
   "source": [
    "ens_estimators6=[('bgc',bgc),('bgc2',bgc2),(\"KNN\",model5)]\n",
    "model_ensemble6=VotingClassifier(estimators=ens_estimators6,voting='soft')\n",
    "model_ensemble6.fit(X_train, y_train)\n",
    "y_pred = model_ensemble6.predict(X_test)\n",
    "\n",
    "cm = confusion_matrix(y_test, y_pred)\n",
    "plot = ConfusionMatrixDisplay(confusion_matrix=cm, display_labels= model_ensemble6.classes_)\n",
    "plot.plot(cmap=\"inferno\")\n",
    "print(classification_report(y_test, y_pred, digits=5))"
   ],
   "metadata": {
    "collapsed": false,
    "ExecuteTime": {
     "end_time": "2024-04-07T17:29:53.405375Z",
     "start_time": "2024-04-07T17:29:41.896302Z"
    }
   },
   "execution_count": 54
  },
  {
   "cell_type": "code",
   "execution_count": 100,
   "metadata": {},
   "outputs": [],
   "source": [
    "# tree = DecisionTreeClassifier(max_depth=4)\n",
    "# tree.fit(tmp1,y_train)\n",
    "# y_pred1 = tree.predict(tmp_test)\n",
    "# tree.fit(tmp2,y_train)\n",
    "# y_pred2 = tree.predict(tmp_test)\n",
    "# tree.fit(tmp3,y_train)\n",
    "# y_pred3 = tree.predict(tmp_test)\n",
    "# print(\"bez: \", accuracy_score(y_test, y_pred1))\n",
    "# print(\"standaryzacja: \", accuracy_score(y_test, y_pred2))\n",
    "# print(\"min- max: \", accuracy_score(y_test, y_pred3))"
   ]
  },
  {
   "cell_type": "markdown",
   "metadata": {},
   "source": [
    "## SVM"
   ]
  },
  {
   "cell_type": "code",
   "execution_count": 101,
   "metadata": {},
   "outputs": [],
   "source": [
    "# svm = SVC()\n",
    "# svm.fit(tmp1,y_train)\n",
    "# y_pred1 = svm.predict(tmp_test)\n",
    "# svm.fit(tmp2,y_train)\n",
    "# y_pred2 = svm.predict(tmp_test)\n",
    "# svm.fit(tmp3,y_train)\n",
    "# y_pred3 = svm.predict(tmp_test)\n",
    "# print(\"bez: \", accuracy_score(y_test, y_pred1))\n",
    "# print(\"standaryzacja: \", accuracy_score(y_test, y_pred2))\n",
    "# print(\"min- max: \", accuracy_score(y_test, y_pred3))"
   ]
  },
  {
   "cell_type": "markdown",
   "metadata": {},
   "source": [
    "## Naiwny Klasyfikator Bayesowski"
   ]
  },
  {
   "cell_type": "code",
   "execution_count": 102,
   "metadata": {},
   "outputs": [],
   "source": [
    "# nb = GaussianNB()\n",
    "# nb.fit(tmp1,y_train)\n",
    "# y_pred1 = nb.predict(tmp_test)\n",
    "# nb.fit(tmp2,y_train)\n",
    "# y_pred2 = nb.predict(tmp_test)\n",
    "# nb.fit(tmp3,y_train)\n",
    "# y_pred3 = nb.predict(tmp_test)\n",
    "# print(\"bez: \", accuracy_score(y_test, y_pred1))\n",
    "# print(\"standaryzacja: \", accuracy_score(y_test, y_pred2))\n",
    "# print(\"min - max: \", accuracy_score(y_test, y_pred3))"
   ]
  },
  {
   "cell_type": "markdown",
   "metadata": {},
   "source": [
    "## Random Forest"
   ]
  },
  {
   "cell_type": "code",
   "execution_count": 103,
   "metadata": {},
   "outputs": [],
   "source": [
    "# model_rf = RandomForestClassifier(n_estimators = 100, # Liczba słabych estymatorów\n",
    "#                                   max_depth = 3, # Maksymalna wysokość drzewa w słabym estymatorze\n",
    "#                                   min_samples_split = 20, # Minimalna liczba obserwacji wymagana do podziału węzła\n",
    "#                                   max_features = 4, # Maksymalna liczba zmiennych brana pod uwagę przy podziale węzła\n",
    "#                                   random_state=42,\n",
    "#                                   n_jobs = -1)\n",
    "# model_rf.fit(tmp1, y_train)\n",
    "# print(\"bez: \", model_rf.score(tmp_test,y_test))\n",
    "# model_rf.fit(tmp2, y_train)\n",
    "# print(\"standaryzacja: \", model_rf.score(tmp_test,y_test))\n",
    "# model_rf.fit(tmp3, y_train)\n",
    "# print(\"min - max: \", model_rf.score(tmp_test,y_test))"
   ]
  },
  {
   "cell_type": "markdown",
   "metadata": {},
   "source": [
    "## Boosting"
   ]
  },
  {
   "cell_type": "code",
   "execution_count": 104,
   "metadata": {},
   "outputs": [],
   "source": [
    "# model = AdaBoostClassifier(random_state=1, algorithm = \"SAMME\", n_estimators=200)\n",
    "# model.fit(tmp1, y_train)\n",
    "# print(\"bez: \", model.score(tmp_test,y_test))\n",
    "# model.fit(tmp2, y_train)\n",
    "# print(\"standaryzacja: \", model.score(tmp_test,y_test))\n",
    "# model.fit(tmp3, y_train)\n",
    "# print(\"min - max: \", model.score(tmp_test,y_test))"
   ]
  },
  {
   "cell_type": "markdown",
   "metadata": {},
   "source": [
    "## Gradient Boositng"
   ]
  },
  {
   "cell_type": "code",
   "execution_count": 105,
   "metadata": {},
   "outputs": [],
   "source": [
    "# model = GradientBoostingClassifier(\n",
    "#     random_state=1, learning_rate=0.01, max_depth=2, min_samples_split=20, min_samples_leaf=20)\n",
    "# model.fit(tmp1, y_train)\n",
    "# print(\"bez: \", model.score(tmp_test,y_test))\n",
    "# model.fit(tmp2, y_train)\n",
    "# print(\"standaryzacja: \", model.score(tmp_test,y_test))\n",
    "# model.fit(tmp3, y_train)\n",
    "# print(\"min - max: \", model.score(tmp_test,y_test))"
   ]
  },
  {
   "cell_type": "markdown",
   "metadata": {},
   "source": [
    "## XG Boost"
   ]
  },
  {
   "cell_type": "code",
   "execution_count": 106,
   "metadata": {},
   "outputs": [],
   "source": [
    "# model = XGBClassifier(\n",
    "#     random_state=1,\n",
    "#     n_estimators=200,  # Liczba drzew\n",
    "#     learning_rate=0.01,  # Szybkość \"uczenia\" się\n",
    "#     booster=\"gbtree\",  # Jaki model wykorzystujemy (drzewo - gbtree, liniowe - gblinear)\n",
    "#     max_depth=3,  # Maksymalna głębokość drzewa    \n",
    "# )\n",
    "# model.fit(tmp1, y_train)\n",
    "# print(\"bez: \", model.score(tmp_test,y_test))\n",
    "# model.fit(tmp2, y_train)\n",
    "# print(\"standaryzacja: \", model.score(tmp_test,y_test))\n",
    "# model.fit(tmp3, y_train)\n",
    "# print(\"min - max: \", model.score(tmp_test,y_test))"
   ]
  }
 ],
 "metadata": {
  "kernelspec": {
   "display_name": "Python 3",
   "language": "python",
   "name": "python3"
  },
  "language_info": {
   "codemirror_mode": {
    "name": "ipython",
    "version": 3
   },
   "file_extension": ".py",
   "mimetype": "text/x-python",
   "name": "python",
   "nbconvert_exporter": "python",
   "pygments_lexer": "ipython3",
   "version": "3.11.5"
  }
 },
 "nbformat": 4,
 "nbformat_minor": 2
}
